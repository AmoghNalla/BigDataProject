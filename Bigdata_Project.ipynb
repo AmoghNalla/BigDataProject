{
 "cells": [
  {
   "cell_type": "code",
   "execution_count": 8,
   "id": "fc5cff38-3b2a-4b8b-bbb5-aa5683129633",
   "metadata": {},
   "outputs": [],
   "source": [
    "from pyspark.sql import SparkSession\n",
    "\n",
    "spark = SparkSession.builder.appName('WeatherAnalysis').getOrCreate()"
   ]
  },
  {
   "cell_type": "code",
   "execution_count": 9,
   "id": "028984a8-2139-49ab-8082-57d42b0d37d5",
   "metadata": {},
   "outputs": [],
   "source": [
    "df=spark.read.csv('Cleaned_Weather_Data.csv',inferSchema=True,header=True)"
   ]
  },
  {
   "cell_type": "code",
   "execution_count": 10,
   "id": "448eb986-44be-4673-8101-21510d91e24e",
   "metadata": {},
   "outputs": [],
   "source": [
    "df.createOrReplaceTempView('Aus_Weather_Data')"
   ]
  },
  {
   "cell_type": "code",
   "execution_count": 20,
   "id": "d8d3808b-6b0c-4629-9a30-9284876be40b",
   "metadata": {},
   "outputs": [
    {
     "name": "stdout",
     "output_type": "stream",
     "text": [
      "+-------------+----------+----------+\n",
      "|     Location|AvgMinTemp|AvgMaxTemp|\n",
      "+-------------+----------+----------+\n",
      "|       Cairns|     21.25|     29.57|\n",
      "|NorfolkIsland|     16.92|     21.84|\n",
      "|      Bendigo|      8.74|     22.04|\n",
      "|      Walpole|     11.91|     20.56|\n",
      "|     Canberra|      6.91|     20.94|\n",
      "|      Woomera|     13.44|      26.7|\n",
      "|     Adelaide|     12.87|     23.34|\n",
      "|        Cobar|     12.82|     25.46|\n",
      "|SydneyAirport|     14.98|     23.44|\n",
      "| PerthAirport|     12.69|     25.84|\n",
      "|   Wollongong|     15.22|     21.64|\n",
      "|  Williamtown|     12.74|      24.1|\n",
      "|        Moree|     12.63|     26.81|\n",
      "|      Mildura|     10.76|     24.98|\n",
      "|     Portland|      9.36|     17.81|\n",
      "|       Albany|     13.05|     20.22|\n",
      "|   SalmonGums|      9.27|     24.06|\n",
      "|     Brisbane|     16.49|     26.51|\n",
      "|       Sydney|     14.92|     23.05|\n",
      "|        Perth|     12.99|     25.09|\n",
      "+-------------+----------+----------+\n",
      "only showing top 20 rows\n",
      "\n",
      "Processing Time: 1.26 seconds\n"
     ]
    }
   ],
   "source": [
    "import time\n",
    "start_time = time.time()\n",
    "avg_temp = spark.sql('''\n",
    "    select \n",
    "        Location,\n",
    "        Round(avg(MinTemp_in_Celcius),2) AS AvgMinTemp,\n",
    "        Round(avg(MaxTemp_in_Celcius),2) AS AvgMaxTemp\n",
    "    from \n",
    "        Aus_Weather_Data\n",
    "    group by \n",
    "        Location\n",
    "''')\n",
    "avg_temp.show()\n",
    "end_time = time.time()\n",
    "processing_time = end_time - start_time\n",
    "print(f\"Processing Time: {processing_time:.2f} seconds\")\n",
    "avg_temp.write.csv('Goal1',header=True)"
   ]
  },
  {
   "cell_type": "code",
   "execution_count": 21,
   "id": "c45cc220-f29f-4329-8ee0-833c3fd92c62",
   "metadata": {},
   "outputs": [
    {
     "name": "stdout",
     "output_type": "stream",
     "text": [
      "+----------------+------------------+-------------------+\n",
      "|        Location|Lowest_Temperature|Highest_Temperature|\n",
      "+----------------+------------------+-------------------+\n",
      "|         Bendigo|              -3.9|               45.4|\n",
      "|        Canberra|              -7.6|               42.0|\n",
      "|         Woomera|              18.6|               46.8|\n",
      "|        Adelaide|              17.3|               45.7|\n",
      "|           Cobar|              -2.0|               45.4|\n",
      "|   SydneyAirport|              22.7|               46.4|\n",
      "|    PerthAirport|              -1.0|               43.0|\n",
      "|     Williamtown|              -1.4|               42.9|\n",
      "|           Moree|              -1.6|               43.1|\n",
      "|         Mildura|              -3.1|               46.0|\n",
      "|        Portland|              15.0|               40.4|\n",
      "|      SalmonGums|              -4.4|               46.3|\n",
      "|          Sydney|              21.4|               40.9|\n",
      "|           Perth|              20.9|               42.9|\n",
      "|            Sale|              -3.9|               44.3|\n",
      "|   BadgerysCreek|              -1.3|               45.1|\n",
      "|          Hobart|              -0.4|               13.8|\n",
      "|     Tuggeranong|              -8.2|               21.3|\n",
      "|        Ballarat|              -3.3|               41.3|\n",
      "|MelbourneAirport|              -0.4|               42.5|\n",
      "+----------------+------------------+-------------------+\n",
      "only showing top 20 rows\n",
      "\n",
      "Processing Time: 1.19 seconds\n"
     ]
    }
   ],
   "source": [
    "start_time = time.time()\n",
    "extreme_temps = spark.sql('''\n",
    "    select \n",
    "        Location, \n",
    "        min(MinTemp_in_Celcius) as Lowest_Temperature, \n",
    "        max(MaxTemp_in_Celcius) as Highest_Temperature\n",
    "    from \n",
    "        Aus_Weather_Data\n",
    "    where \n",
    "        MinTemp_in_Celcius < 0 OR MaxTemp_in_Celcius > 40\n",
    "        group by \n",
    "        Location\n",
    "''')\n",
    "extreme_temps.show()\n",
    "end_time = time.time()\n",
    "processing_time = end_time - start_time\n",
    "print(f\"Processing Time: {processing_time:.2f} seconds\")\n",
    "extreme_temps.write.csv('Goal2',header=True)"
   ]
  },
  {
   "cell_type": "code",
   "execution_count": 22,
   "id": "dc03cf73-3a8f-478e-9c4a-15ac1487132e",
   "metadata": {},
   "outputs": [
    {
     "name": "stdout",
     "output_type": "stream",
     "text": [
      "+----------+----------+\n",
      "|  Location|AvgMaxTemp|\n",
      "+----------+----------+\n",
      "| Katherine|     34.97|\n",
      "|    Darwin|     32.61|\n",
      "|     Uluru|     30.65|\n",
      "|    Cairns|     29.57|\n",
      "|Townsville|     29.31|\n",
      "+----------+----------+\n",
      "\n",
      "Processing Time: 1.29 seconds\n"
     ]
    }
   ],
   "source": [
    "import time\n",
    "start_time = time.time()\n",
    "toplocations = spark.sql('''\n",
    "    select \n",
    "        Location, \n",
    "        round(avg(MaxTemp_in_Celcius),2) AS AvgMaxTemp \n",
    "    from \n",
    "        Aus_Weather_Data\n",
    "    group by \n",
    "        Location\n",
    "    order by \n",
    "        AvgMaxTemp DESC\n",
    "    LIMIT 5\n",
    "''')\n",
    "toplocations.show()\n",
    "end_time = time.time()\n",
    "processing_time = end_time - start_time\n",
    "print(f\"Processing Time: {processing_time:.2f} seconds\")\n",
    "toplocations.write.csv('Goal3',header=True)"
   ]
  },
  {
   "cell_type": "code",
   "execution_count": 23,
   "id": "f754eabb-fb03-455b-9311-f268725b0eb8",
   "metadata": {},
   "outputs": [
    {
     "name": "stdout",
     "output_type": "stream",
     "text": [
      "+-----+--------+------------------+------------------+-------------------+------------------+\n",
      "|index|Location|MinTemp_in_Celcius|MaxTemp_in_Celcius|        MinTempDrop|       MaxTempDrop|\n",
      "+-----+--------+------------------+------------------+-------------------+------------------+\n",
      "|28871|Adelaide|              15.1|              25.2|-0.5999999999999996|10.000000000000004|\n",
      "|28880|Adelaide|              17.2|              30.0|                8.7|10.600000000000001|\n",
      "|28883|Adelaide|              16.3|              24.9|  5.899999999999999|              10.5|\n",
      "|28886|Adelaide|              15.2|              24.0| 11.100000000000001| 8.200000000000003|\n",
      "|28893|Adelaide|              15.0|              22.1| 1.3999999999999986|12.899999999999999|\n",
      "|28899|Adelaide|              16.4|              21.7|  4.600000000000001|              12.2|\n",
      "|28912|Adelaide|               9.9|              16.7|               11.4|               5.5|\n",
      "|28964|Adelaide|              11.6|              16.5|  4.300000000000001|11.100000000000001|\n",
      "|28970|Adelaide|              13.3|              19.3| 3.3999999999999986|15.599999999999998|\n",
      "|28976|Adelaide|              21.8|              28.9| 2.6999999999999993|10.300000000000004|\n",
      "|28980|Adelaide|              13.2|              20.3|  5.699999999999999|12.099999999999998|\n",
      "|28992|Adelaide|              14.1|              31.3|               12.6|              10.3|\n",
      "|28996|Adelaide|              20.7|              22.9|                8.2|              19.9|\n",
      "|29007|Adelaide|              20.4|              26.2|  2.700000000000003|              10.3|\n",
      "|29025|Adelaide|               7.4|              19.9| 10.299999999999999| 4.300000000000001|\n",
      "|29031|Adelaide|              15.4|              20.1|  1.299999999999999|10.099999999999998|\n",
      "|29083|Adelaide|               6.9|              20.0| 13.299999999999999|1.8999999999999986|\n",
      "|29097|Adelaide|              11.8|              19.5|               11.7|              16.9|\n",
      "|29103|Adelaide|              13.6|              19.8| 3.0000000000000018|12.599999999999998|\n",
      "|29106|Adelaide|              13.6|              26.2| 3.0000000000000018|13.400000000000002|\n",
      "+-----+--------+------------------+------------------+-------------------+------------------+\n",
      "only showing top 20 rows\n",
      "\n",
      "Processing Time: 1.97 seconds\n"
     ]
    }
   ],
   "source": [
    "start_time = time.time()\n",
    "sudden_drops = spark.sql('''\n",
    "    WITH TempChanges AS (\n",
    "        select \n",
    "            index,\n",
    "            Location,\n",
    "            MinTemp_in_Celcius,\n",
    "            MaxTemp_in_Celcius,\n",
    "            LAG(MinTemp_in_Celcius) OVER (PARTITION BY Location ORDER BY index) AS PrevMinTemp,\n",
    "            LAG(MaxTemp_in_Celcius) OVER (PARTITION BY Location ORDER BY index) AS PrevMaxTemp\n",
    "        from \n",
    "            Aus_Weather_Data\n",
    "    )\n",
    "    select \n",
    "        index,\n",
    "        Location,\n",
    "        MinTemp_in_Celcius,\n",
    "        MaxTemp_in_Celcius,\n",
    "        (PrevMinTemp - MinTemp_in_Celcius) AS MinTempDrop,\n",
    "        (PrevMaxTemp - MaxTemp_in_Celcius) AS MaxTempDrop\n",
    "    from \n",
    "        TempChanges\n",
    "    where \n",
    "        (PrevMinTemp - MinTemp_in_Celcius) > 10 OR \n",
    "        (PrevMaxTemp - MaxTemp_in_Celcius) > 10\n",
    "''')\n",
    "sudden_drops.show()\n",
    "end_time = time.time()\n",
    "processing_time = end_time - start_time\n",
    "print(f\"Processing Time: {processing_time:.2f} seconds\")\n",
    "sudden_drops.write.csv('Goal4',header=True)"
   ]
  },
  {
   "cell_type": "code",
   "execution_count": 24,
   "id": "e854b927-0738-43cb-82a6-12db098adbcd",
   "metadata": {},
   "outputs": [
    {
     "name": "stdout",
     "output_type": "stream",
     "text": [
      "+---------+--------------+--------------+-----------+\n",
      "|TempRange|AvgHumidity9am|AvgHumidity3pm|AvgRainfall|\n",
      "+---------+--------------+--------------+-----------+\n",
      "|     Cool|         78.27|         61.23|       2.96|\n",
      "|      Hot|         54.34|         35.01|       1.39|\n",
      "| Moderate|         67.48|         50.89|       2.26|\n",
      "+---------+--------------+--------------+-----------+\n",
      "\n",
      "Processing Time: 1.10 seconds\n"
     ]
    }
   ],
   "source": [
    "start_time = time.time()\n",
    "humidity_analysis = spark.sql('''\n",
    "    WITH TempCategory AS (\n",
    "        select \n",
    "            *,\n",
    "            case\n",
    "                when MaxTemp_in_Celcius >= 30 THEN 'Hot'\n",
    "                when MaxTemp_in_Celcius >= 20 AND MaxTemp_in_Celcius < 30 THEN 'Moderate'\n",
    "                else 'Cool'\n",
    "            end AS TempRange\n",
    "        from \n",
    "            Aus_Weather_Data\n",
    "    )\n",
    "    select \n",
    "        TempRange,\n",
    "        round(avg(humidity_at_9am),2) AS AvgHumidity9am,\n",
    "        round(avg(humidity_at_3pm),2) AS AvgHumidity3pm,\n",
    "        round(avg(Rainfall_in_millimeters),2) AS AvgRainfall\n",
    "    from \n",
    "        TempCategory\n",
    "    GROUP BY \n",
    "        TempRange\n",
    "''')\n",
    "\n",
    "\n",
    "humidity_analysis.show()\n",
    "end_time = time.time()\n",
    "processing_time = end_time - start_time\n",
    "print(f\"Processing Time: {processing_time:.2f} seconds\")\n",
    "humidity_analysis.write.csv('Goal5',header=True)"
   ]
  },
  {
   "cell_type": "code",
   "execution_count": 25,
   "id": "3f70f9f8-0a17-4bc8-9eaa-66c22966abc6",
   "metadata": {},
   "outputs": [
    {
     "name": "stdout",
     "output_type": "stream",
     "text": [
      "+-------------+---------+\n",
      "|     Location|RainyDays|\n",
      "+-------------+---------+\n",
      "|       Cairns|      396|\n",
      "|NorfolkIsland|      492|\n",
      "|      Bendigo|      323|\n",
      "|      Walpole|      398|\n",
      "|     Canberra|      304|\n",
      "|      Woomera|      119|\n",
      "|     Adelaide|      289|\n",
      "|        Cobar|      182|\n",
      "|SydneyAirport|      316|\n",
      "| PerthAirport|      189|\n",
      "|   Wollongong|      319|\n",
      "|  Williamtown|      240|\n",
      "|        Moree|      174|\n",
      "|      Mildura|      169|\n",
      "|     Portland|      528|\n",
      "|       Albany|      415|\n",
      "|   SalmonGums|      287|\n",
      "|     Brisbane|      339|\n",
      "|       Sydney|      379|\n",
      "|        Perth|      243|\n",
      "+-------------+---------+\n",
      "only showing top 20 rows\n",
      "\n",
      "Processing Time: 1.15 seconds\n"
     ]
    }
   ],
   "source": [
    "start_time = time.time()\n",
    "rainy_days = spark.sql('''\n",
    "    select \n",
    "        Location, \n",
    "        COUNT(*) AS RainyDays\n",
    "    from \n",
    "        Aus_Weather_Data\n",
    "    where \n",
    "        Rainfall_in_millimeters > 0\n",
    "    GROUP BY \n",
    "        Location\n",
    "''')\n",
    "rainy_days.show()\n",
    "end_time = time.time()\n",
    "processing_time = end_time - start_time\n",
    "print(f\"Processing Time: {processing_time:.2f} seconds\")\n",
    "rainy_days.write.csv('Goal6',header=True)"
   ]
  },
  {
   "cell_type": "code",
   "execution_count": null,
   "id": "54740186-542f-43f2-aba5-535a776e68e9",
   "metadata": {},
   "outputs": [],
   "source": []
  }
 ],
 "metadata": {
  "kernelspec": {
   "display_name": "Python 3 (ipykernel)",
   "language": "python",
   "name": "python3"
  },
  "language_info": {
   "codemirror_mode": {
    "name": "ipython",
    "version": 3
   },
   "file_extension": ".py",
   "mimetype": "text/x-python",
   "name": "python",
   "nbconvert_exporter": "python",
   "pygments_lexer": "ipython3",
   "version": "3.12.7"
  }
 },
 "nbformat": 4,
 "nbformat_minor": 5
}
